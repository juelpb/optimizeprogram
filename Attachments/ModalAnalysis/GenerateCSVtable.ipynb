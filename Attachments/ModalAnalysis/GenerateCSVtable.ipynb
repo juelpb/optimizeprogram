{
 "cells": [
  {
   "cell_type": "code",
   "execution_count": 2,
   "metadata": {},
   "outputs": [],
   "source": [
    "import numpy as np\n",
    "import csv\n",
    "import os\n",
    "import sys\n",
    "os.chdir('C:/Users/juelpb/Desktop/langenuenprogram/')\n",
    "path = os.getcwd()\n",
    "sys.path.append(path)"
   ]
  },
  {
   "cell_type": "code",
   "execution_count": 45,
   "metadata": {},
   "outputs": [],
   "source": [
    "ResultFolder = path + '/FEM_Results/ModalData/'\n",
    "\n",
    "with open(ResultFolder + 'Eigenfrequency.csv') as f:\n",
    "    eF = np.loadtxt(f,delimiter=',')[:,1]\n",
    "\n",
    "with open(ResultFolder + 'Generalized_mass.csv') as f:\n",
    "    gM = np.loadtxt(f,delimiter=',')[:,1]\n",
    "\n",
    "with open(ResultFolder + 'EM_x_component.csv') as f:\n",
    "    PF_x = np.loadtxt(f,delimiter=',')[:,1]\n",
    "    \n",
    "with open(ResultFolder + 'EM_x_rotation.csv') as f:\n",
    "    PF_xr = np.loadtxt(f,delimiter=',')[:,1]\n",
    "    \n",
    "with open(ResultFolder + 'EM_y_component.csv') as f:\n",
    "    PF_y = np.loadtxt(f,delimiter=',')[:,1]\n",
    "    \n",
    "with open(ResultFolder + 'EM_y_rotation.csv') as f:\n",
    "    PF_yr = np.loadtxt(f,delimiter=',')[:,1]\n",
    "\n",
    "with open(ResultFolder + 'EM_z_component.csv') as f:\n",
    "    PF_z = np.loadtxt(f,delimiter=',')[:,1]\n",
    "    \n",
    "with open(ResultFolder + 'EM_z_rotation.csv') as f:\n",
    "    PF_zr = np.loadtxt(f,delimiter=',')[:,1]"
   ]
  },
  {
   "cell_type": "code",
   "execution_count": 47,
   "metadata": {},
   "outputs": [],
   "source": [
    "n_modes = 40\n",
    "ncols   = 9\n",
    "csvtable = np.zeros((n_modes,ncols))\n",
    "\n",
    "head = \"Mode , f,  GenMass, EM_x, EM_{xr}, EM_y, EM_{yr}, EM_z, EM_{zr}\"\n",
    "fmt = '%d', '%1.4f', '%d', '%d', '%d', '%d', '%d', '%d', '%d'\n",
    "modes = [i+1 for i in range(n_modes)]\n",
    "for i in range(n_modes):\n",
    "    csvtable[i,0] = int(modes[i])\n",
    "    csvtable[i,1] = eF[i]\n",
    "    csvtable[i,2] = gM[i]\n",
    "    csvtable[i,3] = PF_x[i]\n",
    "    csvtable[i,4] = PF_xr[i]\n",
    "    csvtable[i,5] = PF_y[i]\n",
    "    csvtable[i,6] = PF_yr[i]\n",
    "    csvtable[i,7] = PF_z[i]\n",
    "    csvtable[i,8] = PF_zr[i]\n",
    "\n",
    " \n",
    "    \n",
    "np.savetxt(path + '/Attachments/ModalAnalysis/csvtable.csv',csvtable,delimiter=\",\",fmt=fmt ,header=head,comments='')\n",
    "            "
   ]
  }
 ],
 "metadata": {
  "interpreter": {
   "hash": "b2e3b724e1ca687b625b08e018b0bbec05e191434555821b5c56a44fdbef3f51"
  },
  "kernelspec": {
   "display_name": "Python 3.9.7 64-bit",
   "language": "python",
   "name": "python3"
  },
  "language_info": {
   "codemirror_mode": {
    "name": "ipython",
    "version": 3
   },
   "file_extension": ".py",
   "mimetype": "text/x-python",
   "name": "python",
   "nbconvert_exporter": "python",
   "pygments_lexer": "ipython3",
   "version": "3.9.7"
  },
  "orig_nbformat": 4
 },
 "nbformat": 4,
 "nbformat_minor": 2
}
