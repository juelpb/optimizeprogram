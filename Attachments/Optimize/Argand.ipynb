{
 "cells": [
  {
   "cell_type": "code",
   "execution_count": 1,
   "metadata": {},
   "outputs": [],
   "source": [
    "import os \n",
    "import sys\n",
    "import numpy as np\n",
    "import matplotlib.pyplot as plt\n",
    "import math\n",
    "import cmath\n",
    "import seaborn as sns\n",
    "from matplotlib.pyplot import cm\n",
    "\n",
    "os.chdir('C:/Users/juelpb/Desktop/langenuenprogram')\n",
    "path = os.getcwd()\n",
    "sys.path.append(path)\n",
    "\n",
    "from Scripts.FlutterAnalysis.Functioncode import flutter_speed"
   ]
  },
  {
   "cell_type": "code",
   "execution_count": 2,
   "metadata": {},
   "outputs": [
    {
     "name": "stdout",
     "output_type": "stream",
     "text": [
      "Analysis is Done! - 1.082 sec. -- U_Flutter = 94.0\n"
     ]
    }
   ],
   "source": [
    "(U_flutter, U_FlutterMode)  = flutter_speed(4.0, 2022,p=False,plot=False)"
   ]
  },
  {
   "cell_type": "code",
   "execution_count": 3,
   "metadata": {},
   "outputs": [
    {
     "name": "stdout",
     "output_type": "stream",
     "text": [
      "[-1.09661634e-01-6.59508480e-01j  1.63602746e-02-1.18087169e-02j\n",
      "  9.98306183e-04-5.61034640e-04j -1.93881435e-02+8.22012474e-03j\n",
      "  7.42374995e-01-0.00000000e+00j  9.95506842e-03+2.00712322e-02j\n",
      "  4.32710883e-04+1.19569248e-03j -5.47277390e-03-2.27342433e-02j]\n",
      "(8,)\n"
     ]
    }
   ],
   "source": [
    "print(U_FlutterMode)\n",
    "print(U_FlutterMode.shape)"
   ]
  },
  {
   "cell_type": "code",
   "execution_count": 5,
   "metadata": {},
   "outputs": [
    {
     "name": "stdout",
     "output_type": "stream",
     "text": [
      "(-0.10966163404267665-0.6595084800979463j)\n",
      "(0.016360274582338106-0.011808716920638201j)\n",
      "(0.0009983061828250637-0.0005610346400918275j)\n",
      "(-0.01938814345840706+0.008220124739643338j)\n",
      "(0.7423749946267806-0j)\n",
      "(0.009955068420083767+0.020071232174517305j)\n",
      "(0.0004327108831107291+0.0011956924791982843j)\n",
      "(-0.005472773895774056-0.022734243268089663j)\n"
     ]
    }
   ],
   "source": [
    "%matplotlib qt\n",
    "\n",
    "idx = []\n",
    "\n",
    "fig, ax = plt.subplots(subplot_kw={'projection': 'polar'})\n",
    "colors = sns.color_palette('tab20',n_colors=18)\n",
    "\n",
    "for el in U_FlutterMode:\n",
    "    print(el)\n",
    "    cord = cmath.polar(el)\n",
    "    r = cord[0]\n",
    "    theta = cord[1]\n",
    "    \n",
    "    plt.plot([0,theta],[0,r],marker='o',color='red',alpha=0.2)\n",
    "\n",
    "plt.show()\n",
    "    \n",
    "\n",
    "\n",
    "\n",
    "# for i in range(U_FlutterMode.shape[0]):\n",
    "#     vec = U_FlutterMode[:,i]\n",
    "#     #max_idx = np.argmax(np.abs(vec))\n",
    "#     print(abs(vec))\n",
    "#     #cord = cmath.polar(vec)\n",
    "#     #r = cord[0]\n",
    "#     #theta = cord[1]\n",
    "    \n",
    "#     #plt.plot([0,theta],[0,r],marker='o',color=colors[i],alpha=0.2)\n",
    "#     #plt.show()\n",
    "    \n",
    "\n",
    "\n"
   ]
  },
  {
   "cell_type": "code",
   "execution_count": null,
   "metadata": {},
   "outputs": [
    {
     "name": "stdout",
     "output_type": "stream",
     "text": [
      "0\n",
      "2\n",
      "4\n"
     ]
    },
    {
     "ename": "IndexError",
     "evalue": "index 4 is out of bounds for axis 1 with size 4",
     "output_type": "error",
     "traceback": [
      "\u001b[1;31m---------------------------------------------------------------------------\u001b[0m",
      "\u001b[1;31mIndexError\u001b[0m                                Traceback (most recent call last)",
      "\u001b[1;32m~\\AppData\\Local\\Temp/ipykernel_27580/1410365170.py\u001b[0m in \u001b[0;36m<module>\u001b[1;34m\u001b[0m\n\u001b[0;32m      5\u001b[0m \u001b[1;32mfor\u001b[0m \u001b[0mi\u001b[0m \u001b[1;32min\u001b[0m \u001b[0mrange\u001b[0m\u001b[1;33m(\u001b[0m\u001b[1;36m0\u001b[0m\u001b[1;33m,\u001b[0m\u001b[0mU_FlutterMode\u001b[0m\u001b[1;33m.\u001b[0m\u001b[0mshape\u001b[0m\u001b[1;33m[\u001b[0m\u001b[1;36m0\u001b[0m\u001b[1;33m]\u001b[0m\u001b[1;33m,\u001b[0m\u001b[1;36m2\u001b[0m\u001b[1;33m)\u001b[0m\u001b[1;33m:\u001b[0m\u001b[1;33m\u001b[0m\u001b[1;33m\u001b[0m\u001b[0m\n\u001b[0;32m      6\u001b[0m     \u001b[0mprint\u001b[0m\u001b[1;33m(\u001b[0m\u001b[0mi\u001b[0m\u001b[1;33m)\u001b[0m\u001b[1;33m\u001b[0m\u001b[1;33m\u001b[0m\u001b[0m\n\u001b[1;32m----> 7\u001b[1;33m     \u001b[0mvec\u001b[0m \u001b[1;33m=\u001b[0m \u001b[0mU_FlutterMode\u001b[0m\u001b[1;33m[\u001b[0m\u001b[1;33m:\u001b[0m\u001b[1;33m,\u001b[0m\u001b[0mi\u001b[0m\u001b[1;33m]\u001b[0m\u001b[1;33m\u001b[0m\u001b[1;33m\u001b[0m\u001b[0m\n\u001b[0m\u001b[0;32m      8\u001b[0m     \u001b[1;32mfor\u001b[0m \u001b[0mj\u001b[0m\u001b[1;33m,\u001b[0m\u001b[0mel\u001b[0m \u001b[1;32min\u001b[0m \u001b[0menumerate\u001b[0m\u001b[1;33m(\u001b[0m\u001b[0mvec\u001b[0m\u001b[1;33m)\u001b[0m\u001b[1;33m:\u001b[0m\u001b[1;33m\u001b[0m\u001b[1;33m\u001b[0m\u001b[0m\n\u001b[0;32m      9\u001b[0m         \u001b[0mcord\u001b[0m \u001b[1;33m=\u001b[0m \u001b[0mcmath\u001b[0m\u001b[1;33m.\u001b[0m\u001b[0mpolar\u001b[0m\u001b[1;33m(\u001b[0m\u001b[0mel\u001b[0m\u001b[1;33m)\u001b[0m\u001b[1;33m\u001b[0m\u001b[1;33m\u001b[0m\u001b[0m\n",
      "\u001b[1;31mIndexError\u001b[0m: index 4 is out of bounds for axis 1 with size 4"
     ]
    }
   ],
   "source": [
    "%matplotlib qt\n",
    "fig, ax = plt.subplots(subplot_kw={'projection': 'polar'})\n",
    "colors = sns.color_palette('tab20',n_colors=18)\n",
    "\n",
    "for i in range(0,U_FlutterMode.shape[0],2):\n",
    "    print(i)\n",
    "    vec = U_FlutterMode[:,i]\n",
    "    for j,el in enumerate(vec):\n",
    "        cord = cmath.polar(el)\n",
    "        r = cord[0]\n",
    "        theta = cord[1]\n",
    "        \n",
    "        if j == 0:\n",
    "            plt.plot([0,theta],[0,r],marker='o',color=colors[i],label=str(i),alpha=0.7)\n",
    "            ax.legend()\n",
    "    \n",
    "        plt.plot([0,theta],[0,r],marker='o',color=colors[i],alpha=0.7)\n",
    "       #ax.legend()\n",
    "\n",
    "plt.show()\n",
    "    "
   ]
  }
 ],
 "metadata": {
  "interpreter": {
   "hash": "e593ac106456af50ce7af38f9671c411b49d6cd90f9b885e167f0f594e09038c"
  },
  "kernelspec": {
   "display_name": "Python 3.10.4 64-bit",
   "language": "python",
   "name": "python3"
  },
  "language_info": {
   "codemirror_mode": {
    "name": "ipython",
    "version": 3
   },
   "file_extension": ".py",
   "mimetype": "text/x-python",
   "name": "python",
   "nbconvert_exporter": "python",
   "pygments_lexer": "ipython3",
   "version": "3.10.4"
  },
  "orig_nbformat": 4
 },
 "nbformat": 4,
 "nbformat_minor": 2
}
